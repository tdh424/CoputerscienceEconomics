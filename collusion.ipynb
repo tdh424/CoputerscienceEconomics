{
 "cells": [
  {
   "cell_type": "markdown",
   "metadata": {},
   "source": [
    "# Tacit Collusion and Dynamic Competition\n"
   ]
  },
  {
   "cell_type": "code",
   "execution_count": 1,
   "metadata": {},
   "outputs": [
    {
     "name": "stderr",
     "output_type": "stream",
     "text": [
      "/Users/mikkeldollerup/opt/anaconda3/lib/python3.9/site-packages/scipy/__init__.py:146: UserWarning: A NumPy version >=1.16.5 and <1.23.0 is required for this version of SciPy (detected version 1.24.3\n",
      "  warnings.warn(f\"A NumPy version >={np_minversion} and <{np_maxversion}\"\n"
     ]
    }
   ],
   "source": [
    "import pandas as pd \n",
    "import numpy as np \n",
    "import seaborn as sns \n",
    "import matplotlib.pyplot as plt \n",
    "from scipy.optimize import minimize\n",
    "from scipy.optimize import fsolve\n",
    "import scipy"
   ]
  },
  {
   "cell_type": "markdown",
   "metadata": {},
   "source": [
    "# Model"
   ]
  },
  {
   "cell_type": "code",
   "execution_count": 2,
   "metadata": {},
   "outputs": [],
   "source": [
    "def R(pi, pj): \n",
    "    if pi < pj: \n",
    "        return 1.0\n",
    "    elif pi == pj: \n",
    "        return 0.5\n",
    "    else: \n",
    "        return 0.0\n",
    "\n",
    "def s(p1, p2, alpha): \n",
    "    u0 = 0.0 \n",
    "    u1 = 1.0 - p1 + alpha * R(p1, p2)\n",
    "    u2 = 1.0 - p2 + alpha * R(p2, p1)\n",
    "\n",
    "#     u = np.array([u0, u1, u2]) \n",
    "\n",
    "#     # max-rescale utilities: probabilities are left unchanged but we get rid of numerical \n",
    "#     # underflow errors (possibly at the cost of more underflow errors, which are less problematic)\n",
    "#     u -= np.max(u, keepdims=True) \n",
    "\n",
    "    s1 = np.exp(u1) / (np.exp(u0) + np.exp(u1) + np.exp(u2))\n",
    "    s2 = np.exp(u2) / (np.exp(u0) + np.exp(u1) + np.exp(u2))\n",
    "    return s1, s2\n",
    "\n",
    "def profit1(p1, p2, alpha=1.0): \n",
    "    s1, s2 = s(p1, p2, alpha)\n",
    "    return s1 * p1\n",
    "\n",
    "def profit2(p1, p2, alpha=1.0): \n",
    "    s1, s2 = s(p1, p2, alpha)\n",
    "    return s2 * p2"
   ]
  },
  {
   "cell_type": "markdown",
   "metadata": {},
   "source": [
    "\n",
    "# Opgave 1"
   ]
  },
  {
   "cell_type": "code",
   "execution_count": 3,
   "metadata": {},
   "outputs": [],
   "source": [
    "from scipy.optimize import minimize\n",
    "\n",
    "def BR1(p2):\n",
    "    f = lambda p1: -pi1(p1, p2)\n",
    "    res = optimize.minimize(f, [0], bounds=[(0, None)])\n",
    "    p1 = res.x[0]\n",
    "    return p1\n",
    "\n",
    "def BR2(p1):\n",
    "    f = lambda p2: -pi2(p1, p2)\n",
    "    res = optimize.minimize(f, [0], bounds=[(0, None)])\n",
    "    p2 = res.x[0]\n",
    "    return p2"
   ]
  },
  {
   "cell_type": "code",
   "execution_count": 4,
   "metadata": {},
   "outputs": [
    {
     "name": "stdout",
     "output_type": "stream",
     "text": [
      "\n",
      "BR1(p2=1.40105555) = 1.40105555 and 5 iterations\n",
      "BR2(p1=1.40105555) = 1.40105555 and 5 iterations\n"
     ]
    }
   ],
   "source": [
    "# Initialization\n",
    "p2 = 1\n",
    "p1_prev = np.inf\n",
    "p2_prev = np.inf\n",
    "iteration = 1\n",
    "\n",
    "while True:\n",
    "    f_ = lambda p: -profit1(p1=p, p2=p2, alpha=0)  # anonymous function of one variable\n",
    "    res = minimize(f_, x0=p2)\n",
    "    p1 = res['x'][0]\n",
    "\n",
    "    f_ = lambda p: -profit2(p1=p1, p2=p, alpha=0)\n",
    "    res = minimize(f_, x0=p2)\n",
    "    p2 = res['x'][0]\n",
    "\n",
    "    # Check if the change is smaller than 1e-8 in both p1 and p2\n",
    "    if abs(p1 - p1_prev) < 1e-8 and abs(p2 - p2_prev) < 1e-8:\n",
    "        break\n",
    "\n",
    "    p1_prev = p1\n",
    "    p2_prev = p2\n",
    "    #print(f'Iteration {iteration}: BR1(p2={p2:6.8f}) = {p1:6.8f},   BR2(p1={p1:6.8f}) = {p2:6.8f}')\n",
    "    iteration += 1\n",
    "\n",
    "print(f'\\nBR1(p2={p2:6.8f}) = {p1:6.8f} and {iteration} iterations')\n",
    "print(f'BR2(p1={p1:6.8f}) = {p2:6.8f} and {iteration} iterations')"
   ]
  },
  {
   "cell_type": "code",
   "execution_count": 5,
   "metadata": {},
   "outputs": [],
   "source": [
    "from scipy.optimize import fsolve\n",
    "from scipy.optimize import minimize"
   ]
  },
  {
   "cell_type": "markdown",
   "metadata": {},
   "source": [
    "# opgave 2"
   ]
  },
  {
   "cell_type": "code",
   "execution_count": 6,
   "metadata": {},
   "outputs": [
    {
     "name": "stdout",
     "output_type": "stream",
     "text": [
      "Ligevægtspris hvis firmaerne indgår kartel: p1 = 2.10, p2=2.10\n"
     ]
    }
   ],
   "source": [
    "from scipy.optimize import minimize\n",
    "\n",
    "def cartel_profit(prices):\n",
    "    p = prices[0]\n",
    "    return -(profit1(p, p) + profit2(p, p))\n",
    "\n",
    "\n",
    "def find_cartel_equilibrium():\n",
    "    initial_price = [0] \n",
    "    result = minimize(cartel_profit, initial_price)\n",
    "    cartel_prices = result.x\n",
    "    return cartel_prices\n",
    "\n",
    "cartel_prices = find_cartel_equilibrium()\n",
    "print(f\"Ligevægtspris hvis firmaerne indgår kartel: p1 = {cartel_prices[0]:.2f}, p2={cartel_prices[0]:.2f}\")\n"
   ]
  },
  {
   "cell_type": "code",
   "execution_count": 9,
   "metadata": {},
   "outputs": [
    {
     "name": "stdout",
     "output_type": "stream",
     "text": [
      "Optimal pris ved karteldannelse:\n",
      "p = 1.853\n"
     ]
    }
   ],
   "source": [
    "def cartel_p1(p, alpha=0): \n",
    "    s1, s2 = s(p, p, alpha)\n",
    "    return s1 * p\n",
    "\n",
    "def cartel_p2(p, alpha=0): \n",
    "    s1, s2 = s(p, p, alpha)\n",
    "    return s2 * p\n",
    "\n",
    "def objective(p, sign=1.0):\n",
    "    return sign * (cartel_p1(p) + cartel_p2(p))\n",
    "from scipy.optimize import minimize\n",
    "\n",
    "p=1\n",
    "result = minimize(objective, [p], args=(-1.0,))\n",
    "optimal_prices = result.x\n",
    "\n",
    "print(\"Optimal pris ved karteldannelse:\")\n",
    "print(f\"p = {optimal_prices[0]:.3f}\")\n"
   ]
  },
  {
   "cell_type": "markdown",
   "metadata": {},
   "source": [
    "# opgave 4 \n",
    "Følgende trigger-strategi: Spil p_bar(0.71) og vis anden person afviger spil ligevægt p_star(0.51)"
   ]
  },
  {
   "cell_type": "code",
   "execution_count": 46,
   "metadata": {
    "scrolled": true
   },
   "outputs": [
    {
     "name": "stdout",
     "output_type": "stream",
     "text": [
      "1.44795 1.85259\n",
      "<class 'numpy.float64'> <class 'numpy.float64'>\n"
     ]
    }
   ],
   "source": [
    "p_star = p1 \n",
    "p_bar = optimal_prices[0]\n",
    "print(p_star.round(5), p_bar.round(5))\n",
    "print(type(p_star), type(p_bar))"
   ]
  },
  {
   "cell_type": "code",
   "execution_count": 55,
   "metadata": {},
   "outputs": [
    {
     "name": "stdout",
     "output_type": "stream",
     "text": [
      "profit ved kartel = 0.426\n",
      "profit ved at afvige = 0.406\n",
      "pi_h = 0.448\n"
     ]
    }
   ],
   "source": [
    "pi_cartel = profit1(p_bar,p_bar, alpha = 0)\n",
    "pi_devi = profit1(p_star,p_star, alpha = 0)\n",
    "\n",
    "f_ = lambda p: -profit1(p1=p, p2=p_bar,alpha = 0)\n",
    "res = minimize(f_, x0 = p2)\n",
    "p1 = res['x'][0]\n",
    "\n",
    "pi_hat = res['x'][0]\n",
    "\n",
    "pi_h = profit1(p_hat,p_bar,alpha=0)\n",
    "\n",
    "\n",
    "print(f\"profit ved kartel = {pi_cartel:.3f}\\nprofit ved at afvige = {pi_devi:.3f}\\npi_h = {pi_h:.3f}\")\n",
    "\n",
    "\n"
   ]
  },
  {
   "cell_type": "code",
   "execution_count": 48,
   "metadata": {},
   "outputs": [
    {
     "name": "stdout",
     "output_type": "stream",
     "text": [
      "delta >= 0.518\n"
     ]
    }
   ],
   "source": [
    "delta = (pi_h - pi_cartel)/(pi_h - pi_devi)\n",
    "print(f\"delta >= {delta:.3f}\")"
   ]
  },
  {
   "cell_type": "code",
   "execution_count": 54,
   "metadata": {},
   "outputs": [
    {
     "name": "stdout",
     "output_type": "stream",
     "text": [
      "yearly return = 0.9307\n"
     ]
    }
   ],
   "source": [
    "from scipy.optimize import fsolve\n",
    "\n",
    "def returnR(r,delta):\n",
    "    return 1/ (1+r) - delta\n",
    "res = fsolve(returnR,x0=0,args=(delta,))\n",
    "\n",
    "print(f\"yearly return = {res[0]:.4f}\")"
   ]
  },
  {
   "cell_type": "markdown",
   "metadata": {},
   "source": [
    "# Opgave 5"
   ]
  },
  {
   "cell_type": "code",
   "execution_count": null,
   "metadata": {},
   "outputs": [],
   "source": []
  }
 ],
 "metadata": {
  "interpreter": {
   "hash": "2f28796849cc7d0dfb7168fb91405d73a8cccecd280e63fee6edce8a728c9dcc"
  },
  "kernelspec": {
   "display_name": "Python 3 (ipykernel)",
   "language": "python",
   "name": "python3"
  },
  "language_info": {
   "codemirror_mode": {
    "name": "ipython",
    "version": 3
   },
   "file_extension": ".py",
   "mimetype": "text/x-python",
   "name": "python",
   "nbconvert_exporter": "python",
   "pygments_lexer": "ipython3",
   "version": "3.9.7"
  }
 },
 "nbformat": 4,
 "nbformat_minor": 4
}
