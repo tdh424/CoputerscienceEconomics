{
 "cells": [
  {
   "cell_type": "markdown",
   "id": "11b52689",
   "metadata": {},
   "source": [
    "# 3.1.1 BR"
   ]
  },
  {
   "cell_type": "code",
   "execution_count": 1,
   "id": "d7b0a122",
   "metadata": {},
   "outputs": [],
   "source": [
    "import numpy as np \n",
    "import pandas as pd \n",
    "import matplotlib.pyplot as plt \n",
    "import seaborn as sns \n",
    "from scipy.optimize import minimize\n",
    "import statsmodels.formula.api as smf\n",
    "\n",
    "sns.set_theme()\n",
    "\n",
    "%load_ext autoreload\n",
    "%autoreload 2\n",
    "\n",
    "import estimation \n",
    "import logit\n",
    "import data "
   ]
  },
  {
   "cell_type": "code",
   "execution_count": 2,
   "id": "00c2bb06",
   "metadata": {},
   "outputs": [
    {
     "data": {
      "image/png": "[encoded data removed]",
      "text/plain": [
       "<Figure size 432x288 with 1 Axes>"
      ]
     },
     "metadata": {},
     "output_type": "display_data"
    }
   ],
   "source": [
    "import numpy as np\n",
    "from scipy import optimize\n",
    "import matplotlib.pyplot as plt\n",
    "\n",
    "# Constants\n",
    "c = 0.5\n",
    "gamma = 1\n",
    "alpha = 3\n",
    "\n",
    "# Utility function\n",
    "def v(j, p):\n",
    "    if j == 0 or j-1 > len(p):\n",
    "        return 0.\n",
    "    else:\n",
    "        return gamma - alpha * p[j-1]\n",
    "\n",
    "# Demand function\n",
    "def pr(j, p):\n",
    "    v_values = [v(i, p) for i in range(len(p)+1)]\n",
    "    v_exp = np.exp(v_values)\n",
    "    return v_exp[j] / np.sum(v_exp)\n",
    "\n",
    "# Market share function\n",
    "def s(j, p):\n",
    "    return pr(j, p)\n",
    "\n",
    "# Profit function\n",
    "def pi(j, p):\n",
    "    p = np.array(p)  # Ensure p is always an array\n",
    "    return (p[j-1] - c) * s(j, p)\n",
    "\n",
    "def BR1(p2):\n",
    "    f = lambda p1 : -pi(1, [p1[0], p2])\n",
    "    res = optimize.minimize(f, [1], bounds=[(0, None)])\n",
    "    p1 = res.x[0]\n",
    "    return p1\n",
    "\n",
    "def BR2(p1): \n",
    "    f = lambda p2 : -pi(2, [p1, p2[0]])\n",
    "    res = optimize.minimize(f, [2], bounds=[(0, None)])\n",
    "    p2 = res.x[0]\n",
    "    return p2\n",
    "\n",
    "# Generate prices\n",
    "pp = np.linspace(0., 1.5, 100)\n",
    "pp1 = np.empty(pp.shape)\n",
    "pp2 = np.empty(pp.shape)\n",
    "for i,p in enumerate(pp): \n",
    "    pp1[i] = BR1(p)\n",
    "    pp2[i] = BR2(p)\n",
    "\n",
    "# Plot best response functions\n",
    "plt.plot(pp, pp2, label=f'BR2(p1)')\n",
    "plt.plot(pp1, pp, label=f'BR1(p2)')\n",
    "plt.legend(); \n",
    "plt.xlabel('$p_1$');\n",
    "plt.ylabel('$p_2$');\n",
    "plt.show()\n"
   ]
  },
  {
   "cell_type": "markdown",
   "id": "bf294e84",
   "metadata": {},
   "source": [
    "# 3.1.1 NE"
   ]
  },
  {
   "cell_type": "code",
   "execution_count": 3,
   "id": "fe3c4b6b",
   "metadata": {},
   "outputs": [
    {
     "name": "stdout",
     "output_type": "stream",
     "text": [
      "Nash equilibrium prices: p1=0.886590839040838, p2=0.8865856229726662\n"
     ]
    }
   ],
   "source": [
    "from scipy.optimize import fsolve\n",
    "\n",
    "# Find Nash Equilibrium\n",
    "def Nash(p):\n",
    "    return [p[0] - BR1(p[1]), p[1] - BR2(p[0])]\n",
    "\n",
    "p0 = [0, 0]  # Initial guess\n",
    "p1, p2 = fsolve(Nash, p0)\n",
    "\n",
    "print(f'Nash equilibrium prices: p1={p1}, p2={p2}')"
   ]
  },
  {
   "cell_type": "markdown",
   "id": "e21baf73",
   "metadata": {},
   "source": [
    "# 3.1.2"
   ]
  },
  {
   "cell_type": "code",
   "execution_count": 4,
   "id": "d4a1ce6f",
   "metadata": {},
   "outputs": [
    {
     "name": "stdout",
     "output_type": "stream",
     "text": [
      "Cartel equilibrium prices: p1=0.9409969693357556, p2=0.9409969644141133\n"
     ]
    }
   ],
   "source": [
    "def cartel_profit(p):\n",
    "    p1, p2 = p\n",
    "    return -(pi(1, [p1, p2]) + pi(2, [p1, p2]))\n",
    "\n",
    "initial_guess = [0.5, 0.5]\n",
    "bounds = [(0, None), (0, None)]\n",
    "result = optimize.minimize(cartel_profit, initial_guess, bounds=bounds)\n",
    "\n",
    "p1_cartel, p2_cartel = result.x\n",
    "\n",
    "print(f'Cartel equilibrium prices: p1={p1_cartel}, p2={p2_cartel}')"
   ]
  },
  {
   "cell_type": "markdown",
   "id": "6cfec290",
   "metadata": {},
   "source": [
    "# 3.1.3"
   ]
  },
  {
   "cell_type": "code",
   "execution_count": 5,
   "id": "072b42d2",
   "metadata": {},
   "outputs": [
    {
     "name": "stdout",
     "output_type": "stream",
     "text": [
      "Sequential equilibrium found after 1 iterations\n",
      "Sequential equilibrium prices: p1=0.8887264446232453, p2=0.8866305584441647\n"
     ]
    }
   ],
   "source": [
    "def sequential_p1(p2): \n",
    "    f = lambda p1 : -pi(1, [p1[0], BR2(p1[0])])\n",
    "    res = minimize(f, [1], bounds=[(0, None)])\n",
    "    p1 = res.x[0]\n",
    "    return p1\n",
    "\n",
    "def sequential_p2(p1):\n",
    "    f = lambda p2 : -pi(2, [p1, p2[0]])\n",
    "    res = minimize(f, [2], bounds=[(0, None)])\n",
    "    p2 = res.x[0]\n",
    "    return p2\n",
    "\n",
    "def sequential_equilibrium(init_p1=0.5, maxit=100, tol=1e-5): \n",
    "    p1 = init_p1\n",
    "    for it in range(maxit): \n",
    "        p1_old = p1\n",
    "        p2 = sequential_p2(p1)\n",
    "        p1 = sequential_p1(p2)\n",
    "        \n",
    "        if np.abs(p1 - p1_old) < tol:\n",
    "            print(f'Sequential equilibrium found after {it} iterations')\n",
    "            break\n",
    "\n",
    "    return p1, p2\n",
    "\n",
    "p1_seq, p2_seq = sequential_equilibrium()\n",
    "print(f'Sequential equilibrium prices: p1={p1_seq}, p2={p2_seq}')\n"
   ]
  },
  {
   "cell_type": "markdown",
   "id": "3731a923-d340-41f2-b059-86f4a70f818f",
   "metadata": {},
   "source": [
    "# Likelihood"
   ]
  },
  {
   "cell_type": "code",
   "execution_count": 6,
   "id": "40cbb905-d6c7-4054-bcc5-69e0950f1053",
   "metadata": {},
   "outputs": [
    {
     "name": "stdout",
     "output_type": "stream",
     "text": [
      "The autoreload extension is already loaded. To reload it, use:\n",
      "  %reload_ext autoreload\n"
     ]
    }
   ],
   "source": [
    "import numpy as np \n",
    "import pandas as pd \n",
    "import matplotlib.pyplot as plt \n",
    "import seaborn as sns \n",
    "from scipy.optimize import minimize\n",
    "import statsmodels.formula.api as smf\n",
    "\n",
    "sns.set_theme()\n",
    "\n",
    "%load_ext autoreload\n",
    "%autoreload 2\n",
    "\n",
    "import estimation \n",
    "import logit\n",
    "import data "
   ]
  },
  {
   "cell_type": "code",
   "execution_count": 7,
   "id": "90532ba9-7402-434e-a7a6-b4693fb84082",
   "metadata": {},
   "outputs": [],
   "source": [
    "cars = pd.read_csv('cars.csv')"
   ]
  },
  {
   "cell_type": "code",
   "execution_count": 8,
   "id": "30cef90d-d9ec-43f9-982d-fe3a5dbe6969",
   "metadata": {},
   "outputs": [
    {
     "data": {
      "text/html": [
       "<div>\n",
       "<style scoped>\n",
       "    .dataframe tbody tr th:only-of-type {\n",
       "        vertical-align: middle;\n",
       "    }\n",
       "\n",
       "    .dataframe tbody tr th {\n",
       "        vertical-align: top;\n",
       "    }\n",
       "\n",
       "    .dataframe thead th {\n",
       "        text-align: right;\n",
       "    }\n",
       "</style>\n",
       "<table border=\"1\" class=\"dataframe\">\n",
       "  <thead>\n",
       "    <tr style=\"text-align: right;\">\n",
       "      <th></th>\n",
       "      <th>ye</th>\n",
       "      <th>ma</th>\n",
       "      <th>co</th>\n",
       "      <th>zcode</th>\n",
       "      <th>brd</th>\n",
       "      <th>type</th>\n",
       "      <th>brand</th>\n",
       "      <th>model</th>\n",
       "      <th>org</th>\n",
       "      <th>loc</th>\n",
       "      <th>...</th>\n",
       "      <th>pop</th>\n",
       "      <th>ngdp</th>\n",
       "      <th>rgdp</th>\n",
       "      <th>engdp</th>\n",
       "      <th>ergdp</th>\n",
       "      <th>engdpc</th>\n",
       "      <th>ergdpc</th>\n",
       "      <th>inc</th>\n",
       "      <th>qu_tot</th>\n",
       "      <th>s</th>\n",
       "    </tr>\n",
       "  </thead>\n",
       "  <tbody>\n",
       "    <tr>\n",
       "      <th>613</th>\n",
       "      <td>85</td>\n",
       "      <td>1</td>\n",
       "      <td>123</td>\n",
       "      <td>150</td>\n",
       "      <td>15</td>\n",
       "      <td>mazda 626</td>\n",
       "      <td>mazda</td>\n",
       "      <td>626</td>\n",
       "      <td>4</td>\n",
       "      <td>6</td>\n",
       "      <td>...</td>\n",
       "      <td>9860000</td>\n",
       "      <td>4834399879168</td>\n",
       "      <td>5.644800e+12</td>\n",
       "      <td>82039455744</td>\n",
       "      <td>9.579190e+10</td>\n",
       "      <td>8320.431641</td>\n",
       "      <td>9715.203125</td>\n",
       "      <td>26419.9529</td>\n",
       "      <td>283858</td>\n",
       "      <td>0.014007</td>\n",
       "    </tr>\n",
       "    <tr>\n",
       "      <th>4188</th>\n",
       "      <td>84</td>\n",
       "      <td>4</td>\n",
       "      <td>183</td>\n",
       "      <td>206</td>\n",
       "      <td>20</td>\n",
       "      <td>peugeot 305</td>\n",
       "      <td>peugeot</td>\n",
       "      <td>305</td>\n",
       "      <td>1</td>\n",
       "      <td>3</td>\n",
       "      <td>...</td>\n",
       "      <td>57000000</td>\n",
       "      <td>722810984988672</td>\n",
       "      <td>1.101367e+15</td>\n",
       "      <td>397628702720</td>\n",
       "      <td>6.058777e+11</td>\n",
       "      <td>6975.942383</td>\n",
       "      <td>10629.433594</td>\n",
       "      <td>26932.5195</td>\n",
       "      <td>1498062</td>\n",
       "      <td>0.005322</td>\n",
       "    </tr>\n",
       "    <tr>\n",
       "      <th>5681</th>\n",
       "      <td>92</td>\n",
       "      <td>5</td>\n",
       "      <td>18</td>\n",
       "      <td>17</td>\n",
       "      <td>3</td>\n",
       "      <td>BMW 3</td>\n",
       "      <td>BMW</td>\n",
       "      <td>3</td>\n",
       "      <td>2</td>\n",
       "      <td>4</td>\n",
       "      <td>...</td>\n",
       "      <td>58010000</td>\n",
       "      <td>598916005888</td>\n",
       "      <td>5.374480e+11</td>\n",
       "      <td>730755891200</td>\n",
       "      <td>6.557569e+11</td>\n",
       "      <td>12597.067383</td>\n",
       "      <td>11304.204102</td>\n",
       "      <td>25933.1597</td>\n",
       "      <td>1331538</td>\n",
       "      <td>0.021176</td>\n",
       "    </tr>\n",
       "  </tbody>\n",
       "</table>\n",
       "<p>3 rows × 50 columns</p>\n",
       "</div>"
      ],
      "text/plain": [
       "      ye  ma   co  zcode  brd         type    brand model  org  loc  ...  \\\n",
       "613   85   1  123    150   15    mazda 626    mazda   626    4    6  ...   \n",
       "4188  84   4  183    206   20  peugeot 305  peugeot   305    1    3  ...   \n",
       "5681  92   5   18     17    3        BMW 3      BMW     3    2    4  ...   \n",
       "\n",
       "           pop             ngdp          rgdp         engdp         ergdp  \\\n",
       "613    9860000    4834399879168  5.644800e+12   82039455744  9.579190e+10   \n",
       "4188  57000000  722810984988672  1.101367e+15  397628702720  6.058777e+11   \n",
       "5681  58010000     598916005888  5.374480e+11  730755891200  6.557569e+11   \n",
       "\n",
       "            engdpc        ergdpc         inc   qu_tot         s  \n",
       "613    8320.431641   9715.203125  26419.9529   283858  0.014007  \n",
       "4188   6975.942383  10629.433594  26932.5195  1498062  0.005322  \n",
       "5681  12597.067383  11304.204102  25933.1597  1331538  0.021176  \n",
       "\n",
       "[3 rows x 50 columns]"
      ]
     },
     "execution_count": 8,
     "metadata": {},
     "output_type": "execute_result"
    }
   ],
   "source": [
    "cars.sample(3)"
   ]
  },
  {
   "cell_type": "code",
   "execution_count": 44,
   "id": "ac55d04b",
   "metadata": {},
   "outputs": [
    {
     "data": {
      "text/plain": [
       "{'ye': 'year (=first dimension of panel)',\n",
       " 'ma': 'market (=second dimension of panel)',\n",
       " 'co': 'model code (=third dimension of panel)',\n",
       " 'zcode': 'alternative model code (predecessors and successors get same number)',\n",
       " 'brd': 'brand code',\n",
       " 'type': 'name of brand and model',\n",
       " 'brand': 'name of brand',\n",
       " 'model': 'name of model',\n",
       " 'org': 'origin code (demand side, country with which consumers associate model)',\n",
       " 'loc': 'location code (production side, country where producer produce model)',\n",
       " 'cla': 'class or segment code',\n",
       " 'home': 'domestic car dummy (appropriate interaction of org and ma)',\n",
       " 'frm': 'firm code',\n",
       " 'qu': 'sales (number of new car registrations)',\n",
       " 'cy': 'cylinder volume or displacement (in cc)',\n",
       " 'hp': 'horsepower (in kW)',\n",
       " 'we': 'weight (in kg)',\n",
       " 'pl': 'places (number, not reliable variable)',\n",
       " 'do': 'doors (number, not reliable variable)',\n",
       " 'le': 'length (in cm)',\n",
       " 'wi': 'width (in cm)',\n",
       " 'he': 'height (in cm)',\n",
       " 'li1': 'measure 1 for fuel efficiency (liter per km, at 90 km/h)',\n",
       " 'li2': 'measure 2 for fuel efficiency (liter per km, at 120 km/h)',\n",
       " 'li3': 'measure 3 for fuel efficiency (liter per km, at city speed)',\n",
       " 'li': 'average of li1, li2, li3 (used in papers)',\n",
       " 'sp': 'maximum speed (km/hour)',\n",
       " 'ac': 'time to acceleration (in seconds from 0 to 100 km/h, some from 0 to 96 km/h)',\n",
       " 'pr': 'price (in destination currency including V.A.T.)',\n",
       " 'princ': '=pr/(ngdp/pop): price relative to per capita income (often used in demand model)',\n",
       " 'eurpr': '=pr/avdexr: price in common currency (in SDR times 1.2956 to interpret in Euros)',\n",
       " 'exppr': '=pr/avexr: price in exporter currency',\n",
       " 'avexr': \"av. exchange rate of exporter country (exporter 'loc' currency per SDR)\",\n",
       " 'avdexr': \"av. exchange rate of destination country (destination 'ma' currency per SDR)\",\n",
       " 'avcpr': 'av. consumer price index of exporter country',\n",
       " 'avppr': 'av. producer price index of exporter country',\n",
       " 'avdcpr': 'av. consumer price index of destination country',\n",
       " 'avdppr': 'av. producer price index of destination country',\n",
       " 'xexr': 'avdexr/avexr',\n",
       " 'tax': 'percentage VAT',\n",
       " 'pop': 'population',\n",
       " 'ngdp': 'nominal gross domestic product of destination country (destination currency)',\n",
       " 'rgdp': 'real gross domestic product',\n",
       " 'engdp': '=ngdp/avdexr: nominal gdp in common currency (SDR)',\n",
       " 'ergdp': '=rgdp/avexr',\n",
       " 'engdpc': '=engdp/pop: nominal gdp per capita in common currency',\n",
       " 'ergdpc': '=ergdp/pop',\n",
       " 's': 'market share (qu / qu_tot)',\n",
       " 'qu_tot': 'total sales in this market-year',\n",
       " 'inc': 'avg. income per capita'}"
      ]
     },
     "execution_count": 44,
     "metadata": {},
     "output_type": "execute_result"
    }
   ],
   "source": [
    "# some useful labels to better understand the data\n",
    "labs = pd.read_csv('labels_values.csv')\n",
    "dict_varnames = pd.read_csv('labels_variables.csv').set_index('variable').to_dict()['label']\n",
    "# to translate market indices to names of countries \n",
    "labs.index += 1 \n",
    "dict_ma = labs.market.dropna().to_dict()\n",
    "dict_varnames"
   ]
  },
  {
   "cell_type": "markdown",
   "id": "ea775d94-7358-4234-91af-338ae39a7d1c",
   "metadata": {},
   "source": [
    "# Pandas to Numpy"
   ]
  },
  {
   "cell_type": "code",
   "execution_count": 10,
   "id": "c911a26d-9fb3-45f6-83f5-559bf8876fc9",
   "metadata": {},
   "outputs": [],
   "source": [
    "J = 40 # car types \n",
    "T = 30 # years (1970-1999)\n",
    "M = 5  # markets "
   ]
  },
  {
   "cell_type": "code",
   "execution_count": 56,
   "id": "27543597-bcb7-4214-b7c7-24cc4729fd4d",
   "metadata": {},
   "outputs": [
    {
     "name": "stdout",
     "output_type": "stream",
     "text": [
      "K = 46 variables selected.\n"
     ]
    }
   ],
   "source": [
    "controls = ['home', 'hp', 'we', 'li', 'cy', 'le'] # x variables \n",
    "dummyvar = ['brd','cla'] # fixed effects for brands and car classes\n",
    "\n",
    "x,y,x_vars = data.get_x_y(cars, control_vars=controls, dummyvarlist=dummyvar)\n",
    "N,J,K = x.shape\n",
    "idx_price = 0 # price is the first variable in x (along 3rd dimension)"
   ]
  },
  {
   "cell_type": "markdown",
   "id": "e3dcc59d-82ce-4614-8aea-845d763e0d49",
   "metadata": {},
   "source": [
    "# Estimate"
   ]
  },
  {
   "cell_type": "code",
   "execution_count": 57,
   "id": "e8bb0fea-eb17-4839-bfda-f5b8b5ba34ed",
   "metadata": {},
   "outputs": [
    {
     "name": "stdout",
     "output_type": "stream",
     "text": [
      "Warning: Desired error not necessarily achieved due to precision loss.\n",
      "         Current function value: 3.463085\n",
      "         Iterations: 468\n",
      "         Function evaluations: 23171\n",
      "         Gradient evaluations: 493\n"
     ]
    }
   ],
   "source": [
    "thetahat, se = estimation.estimate_m(logit, y, x, method='BFGS', cov_type='Sandwich', \n",
    "                                     options={'disp':True, 'maxiter':10_000},\n",
    "                                     tol=1e-8)"
   ]
  },
  {
   "cell_type": "code",
   "execution_count": 58,
   "id": "6d1d4dae-2080-47e4-9430-74a646d06536",
   "metadata": {},
   "outputs": [
    {
     "data": {
      "text/html": [
       "<div>\n",
       "<style scoped>\n",
       "    .dataframe tbody tr th:only-of-type {\n",
       "        vertical-align: middle;\n",
       "    }\n",
       "\n",
       "    .dataframe tbody tr th {\n",
       "        vertical-align: top;\n",
       "    }\n",
       "\n",
       "    .dataframe thead th {\n",
       "        text-align: right;\n",
       "    }\n",
       "</style>\n",
       "<table border=\"1\" class=\"dataframe\">\n",
       "  <thead>\n",
       "    <tr style=\"text-align: right;\">\n",
       "      <th></th>\n",
       "      <th>Est</th>\n",
       "      <th>se</th>\n",
       "    </tr>\n",
       "  </thead>\n",
       "  <tbody>\n",
       "    <tr>\n",
       "      <th>p</th>\n",
       "      <td>-1.343312</td>\n",
       "      <td>0.116045</td>\n",
       "    </tr>\n",
       "    <tr>\n",
       "      <th>home</th>\n",
       "      <td>1.356426</td>\n",
       "      <td>0.031431</td>\n",
       "    </tr>\n",
       "    <tr>\n",
       "      <th>hp</th>\n",
       "      <td>-0.006338</td>\n",
       "      <td>0.001876</td>\n",
       "    </tr>\n",
       "    <tr>\n",
       "      <th>we</th>\n",
       "      <td>0.001002</td>\n",
       "      <td>0.000174</td>\n",
       "    </tr>\n",
       "    <tr>\n",
       "      <th>li</th>\n",
       "      <td>-0.054805</td>\n",
       "      <td>0.015596</td>\n",
       "    </tr>\n",
       "    <tr>\n",
       "      <th>cy</th>\n",
       "      <td>-0.000005</td>\n",
       "      <td>0.000009</td>\n",
       "    </tr>\n",
       "    <tr>\n",
       "      <th>le</th>\n",
       "      <td>-0.001566</td>\n",
       "      <td>0.000918</td>\n",
       "    </tr>\n",
       "    <tr>\n",
       "      <th>brd=2</th>\n",
       "      <td>0.704406</td>\n",
       "      <td>0.065408</td>\n",
       "    </tr>\n",
       "    <tr>\n",
       "      <th>brd=3</th>\n",
       "      <td>0.811006</td>\n",
       "      <td>0.080043</td>\n",
       "    </tr>\n",
       "    <tr>\n",
       "      <th>brd=4</th>\n",
       "      <td>0.261941</td>\n",
       "      <td>0.054878</td>\n",
       "    </tr>\n",
       "    <tr>\n",
       "      <th>brd=7</th>\n",
       "      <td>0.553567</td>\n",
       "      <td>0.049602</td>\n",
       "    </tr>\n",
       "    <tr>\n",
       "      <th>brd=8</th>\n",
       "      <td>0.736569</td>\n",
       "      <td>0.054697</td>\n",
       "    </tr>\n",
       "    <tr>\n",
       "      <th>brd=9</th>\n",
       "      <td>0.373014</td>\n",
       "      <td>0.067204</td>\n",
       "    </tr>\n",
       "    <tr>\n",
       "      <th>brd=10</th>\n",
       "      <td>-0.241551</td>\n",
       "      <td>0.235730</td>\n",
       "    </tr>\n",
       "    <tr>\n",
       "      <th>brd=11</th>\n",
       "      <td>-0.737662</td>\n",
       "      <td>0.176769</td>\n",
       "    </tr>\n",
       "    <tr>\n",
       "      <th>brd=14</th>\n",
       "      <td>-0.141831</td>\n",
       "      <td>0.057485</td>\n",
       "    </tr>\n",
       "    <tr>\n",
       "      <th>brd=15</th>\n",
       "      <td>0.234058</td>\n",
       "      <td>0.065577</td>\n",
       "    </tr>\n",
       "    <tr>\n",
       "      <th>brd=16</th>\n",
       "      <td>1.399162</td>\n",
       "      <td>0.107220</td>\n",
       "    </tr>\n",
       "    <tr>\n",
       "      <th>brd=17</th>\n",
       "      <td>0.154486</td>\n",
       "      <td>0.077555</td>\n",
       "    </tr>\n",
       "    <tr>\n",
       "      <th>brd=18</th>\n",
       "      <td>0.502633</td>\n",
       "      <td>0.055645</td>\n",
       "    </tr>\n",
       "    <tr>\n",
       "      <th>brd=19</th>\n",
       "      <td>0.686945</td>\n",
       "      <td>0.053668</td>\n",
       "    </tr>\n",
       "    <tr>\n",
       "      <th>brd=20</th>\n",
       "      <td>0.654083</td>\n",
       "      <td>0.050347</td>\n",
       "    </tr>\n",
       "    <tr>\n",
       "      <th>brd=22</th>\n",
       "      <td>0.719562</td>\n",
       "      <td>0.041368</td>\n",
       "    </tr>\n",
       "    <tr>\n",
       "      <th>brd=23</th>\n",
       "      <td>0.008603</td>\n",
       "      <td>0.015526</td>\n",
       "    </tr>\n",
       "    <tr>\n",
       "      <th>brd=24</th>\n",
       "      <td>0.216265</td>\n",
       "      <td>0.151684</td>\n",
       "    </tr>\n",
       "    <tr>\n",
       "      <th>brd=25</th>\n",
       "      <td>-0.033994</td>\n",
       "      <td>0.037628</td>\n",
       "    </tr>\n",
       "    <tr>\n",
       "      <th>brd=26</th>\n",
       "      <td>-0.219908</td>\n",
       "      <td>0.113612</td>\n",
       "    </tr>\n",
       "    <tr>\n",
       "      <th>brd=28</th>\n",
       "      <td>-0.301393</td>\n",
       "      <td>0.273664</td>\n",
       "    </tr>\n",
       "    <tr>\n",
       "      <th>brd=29</th>\n",
       "      <td>0.571515</td>\n",
       "      <td>0.059957</td>\n",
       "    </tr>\n",
       "    <tr>\n",
       "      <th>brd=30</th>\n",
       "      <td>0.929470</td>\n",
       "      <td>0.049354</td>\n",
       "    </tr>\n",
       "    <tr>\n",
       "      <th>brd=31</th>\n",
       "      <td>0.737471</td>\n",
       "      <td>0.071922</td>\n",
       "    </tr>\n",
       "    <tr>\n",
       "      <th>brd=33</th>\n",
       "      <td>-0.266272</td>\n",
       "      <td>0.084636</td>\n",
       "    </tr>\n",
       "    <tr>\n",
       "      <th>brd=35</th>\n",
       "      <td>0.046441</td>\n",
       "      <td>0.060120</td>\n",
       "    </tr>\n",
       "    <tr>\n",
       "      <th>brd=36</th>\n",
       "      <td>0.759061</td>\n",
       "      <td>0.094985</td>\n",
       "    </tr>\n",
       "    <tr>\n",
       "      <th>brd=37</th>\n",
       "      <td>-0.623666</td>\n",
       "      <td>0.186469</td>\n",
       "    </tr>\n",
       "    <tr>\n",
       "      <th>brd=40</th>\n",
       "      <td>0.123365</td>\n",
       "      <td>0.155624</td>\n",
       "    </tr>\n",
       "    <tr>\n",
       "      <th>brd=42</th>\n",
       "      <td>-0.449069</td>\n",
       "      <td>0.226174</td>\n",
       "    </tr>\n",
       "    <tr>\n",
       "      <th>brd=43</th>\n",
       "      <td>0.338130</td>\n",
       "      <td>0.140699</td>\n",
       "    </tr>\n",
       "    <tr>\n",
       "      <th>brd=44</th>\n",
       "      <td>0.372769</td>\n",
       "      <td>0.148669</td>\n",
       "    </tr>\n",
       "    <tr>\n",
       "      <th>brd=45</th>\n",
       "      <td>-0.031603</td>\n",
       "      <td>0.037209</td>\n",
       "    </tr>\n",
       "    <tr>\n",
       "      <th>brd=46</th>\n",
       "      <td>0.380708</td>\n",
       "      <td>0.049324</td>\n",
       "    </tr>\n",
       "    <tr>\n",
       "      <th>brd=47</th>\n",
       "      <td>-1.268081</td>\n",
       "      <td>0.374919</td>\n",
       "    </tr>\n",
       "    <tr>\n",
       "      <th>cla=2</th>\n",
       "      <td>0.183701</td>\n",
       "      <td>0.047326</td>\n",
       "    </tr>\n",
       "    <tr>\n",
       "      <th>cla=3</th>\n",
       "      <td>0.236070</td>\n",
       "      <td>0.073295</td>\n",
       "    </tr>\n",
       "    <tr>\n",
       "      <th>cla=4</th>\n",
       "      <td>0.123426</td>\n",
       "      <td>0.095355</td>\n",
       "    </tr>\n",
       "    <tr>\n",
       "      <th>cla=5</th>\n",
       "      <td>0.285934</td>\n",
       "      <td>0.130505</td>\n",
       "    </tr>\n",
       "  </tbody>\n",
       "</table>\n",
       "</div>"
      ],
      "text/plain": [
       "             Est        se\n",
       "p      -1.343312  0.116045\n",
       "home    1.356426  0.031431\n",
       "hp     -0.006338  0.001876\n",
       "we      0.001002  0.000174\n",
       "li     -0.054805  0.015596\n",
       "cy     -0.000005  0.000009\n",
       "le     -0.001566  0.000918\n",
       "brd=2   0.704406  0.065408\n",
       "brd=3   0.811006  0.080043\n",
       "brd=4   0.261941  0.054878\n",
       "brd=7   0.553567  0.049602\n",
       "brd=8   0.736569  0.054697\n",
       "brd=9   0.373014  0.067204\n",
       "brd=10 -0.241551  0.235730\n",
       "brd=11 -0.737662  0.176769\n",
       "brd=14 -0.141831  0.057485\n",
       "brd=15  0.234058  0.065577\n",
       "brd=16  1.399162  0.107220\n",
       "brd=17  0.154486  0.077555\n",
       "brd=18  0.502633  0.055645\n",
       "brd=19  0.686945  0.053668\n",
       "brd=20  0.654083  0.050347\n",
       "brd=22  0.719562  0.041368\n",
       "brd=23  0.008603  0.015526\n",
       "brd=24  0.216265  0.151684\n",
       "brd=25 -0.033994  0.037628\n",
       "brd=26 -0.219908  0.113612\n",
       "brd=28 -0.301393  0.273664\n",
       "brd=29  0.571515  0.059957\n",
       "brd=30  0.929470  0.049354\n",
       "brd=31  0.737471  0.071922\n",
       "brd=33 -0.266272  0.084636\n",
       "brd=35  0.046441  0.060120\n",
       "brd=36  0.759061  0.094985\n",
       "brd=37 -0.623666  0.186469\n",
       "brd=40  0.123365  0.155624\n",
       "brd=42 -0.449069  0.226174\n",
       "brd=43  0.338130  0.140699\n",
       "brd=44  0.372769  0.148669\n",
       "brd=45 -0.031603  0.037209\n",
       "brd=46  0.380708  0.049324\n",
       "brd=47 -1.268081  0.374919\n",
       "cla=2   0.183701  0.047326\n",
       "cla=3   0.236070  0.073295\n",
       "cla=4   0.123426  0.095355\n",
       "cla=5   0.285934  0.130505"
      ]
     },
     "execution_count": 58,
     "metadata": {},
     "output_type": "execute_result"
    }
   ],
   "source": [
    "# print estimates\n",
    "tab = pd.DataFrame({'Est':thetahat, 'se': se}, index = x_vars)\n",
    "tab"
   ]
  },
  {
   "cell_type": "markdown",
   "id": "04d1ae21",
   "metadata": {},
   "source": [
    "# Selecting country-year\n",
    "\n",
    "Selecting Germany in 1999. "
   ]
  },
  {
   "cell_type": "code",
   "execution_count": 59,
   "id": "a591d262",
   "metadata": {},
   "outputs": [],
   "source": [
    "country = 'Germany'\n",
    "year = 99\n",
    "I = (cars['ma'].map(dict_ma) == country) & (cars['ye'] == year)"
   ]
  },
  {
   "cell_type": "code",
   "execution_count": 60,
   "id": "d92369ed",
   "metadata": {},
   "outputs": [],
   "source": [
    "# select the rows of the dataset that corresponds to I \n",
    "market_data = cars.loc[I].reset_index()"
   ]
  },
  {
   "cell_type": "code",
   "execution_count": 61,
   "id": "5adca1b1",
   "metadata": {},
   "outputs": [
    {
     "name": "stdout",
     "output_type": "stream",
     "text": [
      "Germany has 82,020,000 people and 3,849,660,137,472 GDP in 99\n"
     ]
    }
   ],
   "source": [
    "# information about Germany in 1999 \n",
    "population = market_data['pop'].unique()[0]\n",
    "gdp = market_data['ngdp'].unique()[0]\n",
    "gdp_per_capita = gdp / population\n",
    "print(f'{country} has {population:,} people and {gdp:,} GDP in {year}')"
   ]
  },
  {
   "cell_type": "markdown",
   "id": "60e85d45",
   "metadata": {},
   "source": [
    "Create `x`: The matrix of regressors for Germany in 1999. It is $1 \\times J \\times K$, where \n",
    "\n",
    "* 1 = number of markets (there is just one) \n",
    "* $J = 40$ = number of available cars \n",
    "* $K = $ number of regressors in the logit demand model"
   ]
  },
  {
   "cell_type": "code",
   "execution_count": 62,
   "id": "5608c772",
   "metadata": {},
   "outputs": [],
   "source": [
    "# to predict market shares, we need a matrix of car characteristics for all cars available in Germany in 1999\n",
    "idx = cars.loc[I].index.values\n",
    "x = x.reshape(N*J,K)[idx,:].reshape(1,J,K)\n",
    "\n",
    "# later we will need a function for changing the price in the x-matrix used by the logit functions\n",
    "def set_car_price(x, p:float, j:int) -> None:\n",
    "    # writes to the input!  \n",
    "    x[:,j,idx_price] = p/gdp_per_capita # in the model, price is relative to gdp per capita\n"
   ]
  },
  {
   "cell_type": "markdown",
   "id": "b51a1b10",
   "metadata": {},
   "source": [
    "# Product-level competition"
   ]
  },
  {
   "cell_type": "code",
   "execution_count": 63,
   "id": "13ed8462",
   "metadata": {},
   "outputs": [
    {
     "data": {
      "text/html": [
       "<div>\n",
       "<style scoped>\n",
       "    .dataframe tbody tr th:only-of-type {\n",
       "        vertical-align: middle;\n",
       "    }\n",
       "\n",
       "    .dataframe tbody tr th {\n",
       "        vertical-align: top;\n",
       "    }\n",
       "\n",
       "    .dataframe thead th {\n",
       "        text-align: right;\n",
       "    }\n",
       "</style>\n",
       "<table border=\"1\" class=\"dataframe\">\n",
       "  <thead>\n",
       "    <tr style=\"text-align: right;\">\n",
       "      <th></th>\n",
       "      <th>name of brand and model</th>\n",
       "      <th>name of brand</th>\n",
       "      <th>market share (qu / qu_tot)</th>\n",
       "      <th>sales (number of new car registrations)</th>\n",
       "      <th>price (in destination currency including V.A.T.)</th>\n",
       "      <th>weight (in kg)</th>\n",
       "      <th>horsepower (in kW)</th>\n",
       "      <th>measure 1 for fuel efficiency (liter per km, at 90 km/h)</th>\n",
       "    </tr>\n",
       "  </thead>\n",
       "  <tbody>\n",
       "    <tr>\n",
       "      <th>22</th>\n",
       "      <td>volkswagen passat</td>\n",
       "      <td>VW</td>\n",
       "      <td>0.050595</td>\n",
       "      <td>136575</td>\n",
       "      <td>37800.0</td>\n",
       "      <td>1230</td>\n",
       "      <td>74.0</td>\n",
       "      <td>6.1</td>\n",
       "    </tr>\n",
       "    <tr>\n",
       "      <th>34</th>\n",
       "      <td>ford focus</td>\n",
       "      <td>ford</td>\n",
       "      <td>0.041837</td>\n",
       "      <td>112933</td>\n",
       "      <td>25850.0</td>\n",
       "      <td>1070</td>\n",
       "      <td>55.0</td>\n",
       "      <td>5.2</td>\n",
       "    </tr>\n",
       "  </tbody>\n",
       "</table>\n",
       "</div>"
      ],
      "text/plain": [
       "   name of brand and model name of brand  market share (qu / qu_tot)  \\\n",
       "22       volkswagen passat            VW                    0.050595   \n",
       "34              ford focus          ford                    0.041837   \n",
       "\n",
       "    sales (number of new car registrations)  \\\n",
       "22                                   136575   \n",
       "34                                   112933   \n",
       "\n",
       "    price (in destination currency including V.A.T.)  weight (in kg)  \\\n",
       "22                                           37800.0            1230   \n",
       "34                                           25850.0            1070   \n",
       "\n",
       "    horsepower (in kW)  \\\n",
       "22                74.0   \n",
       "34                55.0   \n",
       "\n",
       "    measure 1 for fuel efficiency (liter per km, at 90 km/h)  \n",
       "22                                                6.1         \n",
       "34                                                5.2         "
      ]
     },
     "execution_count": 63,
     "metadata": {},
     "output_type": "execute_result"
    }
   ],
   "source": [
    "j1 = 22 # car type 1\n",
    "j2 = 34 # car type 2 \n",
    "\n",
    "# let's print some details about the selected variables \n",
    "cols = ['type', 'brand', 's', 'qu', 'pr', 'we', 'hp', 'li1']\n",
    "market_data.loc[[j1,j2], cols].rename(columns=dict_varnames)"
   ]
  },
  {
   "cell_type": "code",
   "execution_count": 64,
   "id": "6101e54c",
   "metadata": {},
   "outputs": [
    {
     "data": {
      "text/html": [
       "<div>\n",
       "<style scoped>\n",
       "    .dataframe tbody tr th:only-of-type {\n",
       "        vertical-align: middle;\n",
       "    }\n",
       "\n",
       "    .dataframe tbody tr th {\n",
       "        vertical-align: top;\n",
       "    }\n",
       "\n",
       "    .dataframe thead th {\n",
       "        text-align: right;\n",
       "    }\n",
       "</style>\n",
       "<table border=\"1\" class=\"dataframe\">\n",
       "  <thead>\n",
       "    <tr style=\"text-align: right;\">\n",
       "      <th></th>\n",
       "      <th>Market share, data</th>\n",
       "      <th>Market share, model</th>\n",
       "    </tr>\n",
       "  </thead>\n",
       "  <tbody>\n",
       "    <tr>\n",
       "      <th>volkswagen passat</th>\n",
       "      <td>0.050595</td>\n",
       "      <td>0.036229</td>\n",
       "    </tr>\n",
       "    <tr>\n",
       "      <th>ford focus</th>\n",
       "      <td>0.041837</td>\n",
       "      <td>0.046936</td>\n",
       "    </tr>\n",
       "  </tbody>\n",
       "</table>\n",
       "</div>"
      ],
      "text/plain": [
       "                   Market share, data  Market share, model\n",
       "volkswagen passat            0.050595             0.036229\n",
       "ford focus                   0.041837             0.046936"
      ]
     },
     "execution_count": 64,
     "metadata": {},
     "output_type": "execute_result"
    }
   ],
   "source": [
    "# predict market shares in the baseline \n",
    "s = logit.choice_prob(thetahat, x)\n",
    "\n",
    "# print it and compared to observed market shares \n",
    "pd.DataFrame({'Market share, data': market_data.loc[[j1,j2], 's'].values, 'Market share, model': s[0,[j1,j2]]}, \n",
    "index = market_data.loc[[j1,j2], 'type'].values)"
   ]
  },
  {
   "cell_type": "markdown",
   "id": "02d00642",
   "metadata": {},
   "source": [
    "## The payoff functions"
   ]
  },
  {
   "cell_type": "code",
   "execution_count": 76,
   "id": "f98c3b20",
   "metadata": {},
   "outputs": [],
   "source": [
    "p1_data = market_data.loc[j1, 'pr'] # raw sticker price of the car in the data \n",
    "p2_data = market_data.loc[j2, 'pr'] # ... for car 2 \n",
    "\n",
    "# we assume that marginal cost is 50% of the sticker price.... \n",
    "c1 = 0.5 * p1_data\n",
    "c2 = 0.5 * p2_data\n",
    "\n",
    "def market_shares(p1, p2): \n",
    "    x2 = x.copy() # copy to avoid writing to the original data \n",
    "    set_car_price(x2, p1, j1) # set the price of car j1 to the p1 (measured in the model's units)\n",
    "    set_car_price(x2, p2, j2) # ... for car j2\n",
    "    ccp = logit.choice_prob(thetahat, x2)\n",
    "    s1 = ccp[0,j1] \n",
    "    s2 = ccp[0,j2] \n",
    "    return s1, s2\n",
    "\n",
    "def profit(p, s, c): \n",
    "    # profit = Q * (p-c)\n",
    "    return population * s * (p - c) / 1_000_000_000 # in 100 million EUR\n",
    "\n",
    "def profit1(p1, p2): \n",
    "    s1, s2 = market_shares(p1, p2)\n",
    "    pi1 = profit(p1, s1, c1)\n",
    "    return pi1\n",
    "\n",
    "def profit2(p2, p1): # note the order of inputs!!\n",
    "    s1, s2 = market_shares(p1, p2)\n",
    "    pi2 = profit(p2, s2, c2)\n",
    "    return pi2"
   ]
  },
  {
   "cell_type": "code",
   "execution_count": 77,
   "id": "e172681d",
   "metadata": {},
   "outputs": [
    {
     "name": "stdout",
     "output_type": "stream",
     "text": [
      "Baseline predicted profit for car 22 (volkswagen passat): 56.2 million EUR\n",
      "Baseline predicted profit for car 34 (ford focus): 49.8 million EUR\n"
     ]
    }
   ],
   "source": [
    "print(f'Baseline predicted profit for car {j1} ({market_data.loc[j1,\"type\"]}): {profit1(p1_data, p2_data):,.1f} million EUR')\n",
    "print(f'Baseline predicted profit for car {j2} ({market_data.loc[j2,\"type\"]}): {profit2(p2_data, p1_data):,.1f} million EUR')"
   ]
  },
  {
   "cell_type": "code",
   "execution_count": 78,
   "id": "a773ebb6",
   "metadata": {},
   "outputs": [
    {
     "data": {
      "image/png": "[encoded data removed]",
      "text/plain": [
       "<Figure size 432x288 with 1 Axes>"
      ]
     },
     "metadata": {},
     "output_type": "display_data"
    }
   ],
   "source": [
    "\n",
    "# printing the profit function for three values of the competitor price \n",
    "pp1 = np.linspace(0.5,2.,10) * p1_data\n",
    "pp2 = np.linspace(0.5,5.,3) * p2_data\n",
    "pi1 = np.empty((pp1.size,pp2.size))\n",
    "for i2,p2 in enumerate(pp2): \n",
    "    for i1,p1 in enumerate(pp1): \n",
    "        pi1[i1,i2] = profit1(p1, p2)\n",
    "\n",
    "    plt.plot(pp1, pi1[:,i2], label=f'p2 = {p2:,}')\n",
    "plt.axvline(p1_data,color='gray',linestyle=':', label=f'Baseline price of {market_data.loc[j1,\"type\"]}')\n",
    "plt.legend(); "
   ]
  },
  {
   "cell_type": "markdown",
   "id": "4e0cf733",
   "metadata": {},
   "source": [
    "***... continue from here ...***"
   ]
  },
  {
   "cell_type": "markdown",
   "id": "57d317dd",
   "metadata": {},
   "source": [
    "# 3.2.1"
   ]
  },
  {
   "cell_type": "code",
   "execution_count": 79,
   "id": "6eecd903",
   "metadata": {},
   "outputs": [
    {
     "name": "stdout",
     "output_type": "stream",
     "text": [
      "Nash equilibrium prices: p1=54670.12580383598, p2=48771.341027552204\n"
     ]
    }
   ],
   "source": [
    "# Best response function for firm 1\n",
    "def BR1(p2):\n",
    "    f = lambda p1 : -profit1(p1, p2)\n",
    "    res = minimize(f, p1_data, bounds=[(0, None)], method='Nelder-Mead')\n",
    "    p1 = res.x[0]\n",
    "    return p1\n",
    "\n",
    "# Best response function for firm 2\n",
    "def BR2(p1):\n",
    "    f = lambda p2 : -profit2(p2, p1)\n",
    "    res = minimize(f, p2_data, bounds=[(0, None)], method='Nelder-Mead')\n",
    "    p2 = res.x[0]\n",
    "    return p2\n",
    "\n",
    "def system(p):\n",
    "    p1, p2 = p\n",
    "    return BR1(p2) - p1, BR2(p1) - p2\n",
    "\n",
    "p_initial_guess = np.array([p1_data, p2_data])\n",
    "p_Nash = fsolve(system, p_initial_guess)\n",
    "\n",
    "p1_Nash, p2_Nash = p_Nash\n",
    "print(f\"Nash equilibrium prices: p1={p1_Nash}, p2={p2_Nash}\")\n"
   ]
  },
  {
   "cell_type": "markdown",
   "id": "ea9a332f",
   "metadata": {},
   "source": [
    "# 3.2.2"
   ]
  },
  {
   "cell_type": "code",
   "execution_count": 81,
   "id": "488a10bb",
   "metadata": {},
   "outputs": [
    {
     "name": "stdout",
     "output_type": "stream",
     "text": [
      "Cartel's optimal prices: p1=54971.36764716842, p2=49011.10807245255\n"
     ]
    }
   ],
   "source": [
    "from scipy.optimize import minimize\n",
    "\n",
    "# Joint profit\n",
    "def joint_profit(p):\n",
    "    p1, p2 = p\n",
    "    return -(profit1(p1, p2) + profit2(p2, p1))\n",
    "\n",
    "# Initial guess\n",
    "p0 = np.array([p1_data, p2_data])\n",
    "\n",
    "# Run the BFGS optimizer\n",
    "res = minimize(joint_profit, p0, method='BFGS')\n",
    "\n",
    "# Get the optimal prices\n",
    "p1_cartel, p2_cartel = res.x\n",
    "\n",
    "# Print the optimal prices\n",
    "print(f\"Cartel's optimal prices: p1={p1_cartel}, p2={p2_cartel}\")\n"
   ]
  },
  {
   "cell_type": "markdown",
   "id": "a55943ce",
   "metadata": {},
   "source": [
    "# Brand-level competition\n",
    "\n",
    "From here on, we instead look at competition across brands, rather than individual cars. \n",
    "\n",
    "At the brand-level, for example VW has 5 cars in Germany in 1999, so it sets 5 prices. To simplify matters, let us assume that VW only considers setting a single of those 5 prices, so that it scales all of its prices linearly, i.e. it chooses a single scalar, $p \\ge 0$, which then scales all of its five prices: \n",
    "\n",
    "$$\n",
    "\\begin{align*}\n",
    "P_{\\text{polo}}  = p P_{\\text{polo}}^{\\text{data}}     \\\\\n",
    "P_{\\text{golf}}  = p P_{\\text{golf}}^{\\text{data}}     \\\\\n",
    "P_{\\text{pasat}} = p P_{\\text{pasat}}^{\\text{data}}   \\\\\n",
    "P_{\\text{lupo}}  = p P_{\\text{lupo}}^{\\text{data}}     \\\\\n",
    "P_{\\text{bora}}  = p P_{\\text{bora}}^{\\text{data}}     \\\\\n",
    "\\end{align*}\n",
    "$$\n",
    "\n",
    "So if it chooses $p = 1.0$, it gets the prices from the data (the baseline). "
   ]
  },
  {
   "cell_type": "code",
   "execution_count": 82,
   "id": "d41ee6d4",
   "metadata": {},
   "outputs": [
    {
     "data": {
      "text/html": [
       "<div>\n",
       "<style scoped>\n",
       "    .dataframe tbody tr th:only-of-type {\n",
       "        vertical-align: middle;\n",
       "    }\n",
       "\n",
       "    .dataframe tbody tr th {\n",
       "        vertical-align: top;\n",
       "    }\n",
       "\n",
       "    .dataframe thead th {\n",
       "        text-align: right;\n",
       "    }\n",
       "</style>\n",
       "<table border=\"1\" class=\"dataframe\">\n",
       "  <thead>\n",
       "    <tr style=\"text-align: right;\">\n",
       "      <th></th>\n",
       "      <th>type</th>\n",
       "      <th>brand</th>\n",
       "      <th>s</th>\n",
       "      <th>qu</th>\n",
       "      <th>pr</th>\n",
       "      <th>we</th>\n",
       "      <th>hp</th>\n",
       "      <th>li1</th>\n",
       "    </tr>\n",
       "  </thead>\n",
       "  <tbody>\n",
       "    <tr>\n",
       "      <th>11</th>\n",
       "      <td>opel corsa</td>\n",
       "      <td>opel</td>\n",
       "      <td>0.041575</td>\n",
       "      <td>112226</td>\n",
       "      <td>17990.0</td>\n",
       "      <td>865</td>\n",
       "      <td>40.0</td>\n",
       "      <td>4.6</td>\n",
       "    </tr>\n",
       "    <tr>\n",
       "      <th>12</th>\n",
       "      <td>opel vectra</td>\n",
       "      <td>opel</td>\n",
       "      <td>0.034859</td>\n",
       "      <td>94096</td>\n",
       "      <td>35270.0</td>\n",
       "      <td>1215</td>\n",
       "      <td>74.0</td>\n",
       "      <td>5.8</td>\n",
       "    </tr>\n",
       "    <tr>\n",
       "      <th>13</th>\n",
       "      <td>opel omega</td>\n",
       "      <td>opel</td>\n",
       "      <td>0.010491</td>\n",
       "      <td>28318</td>\n",
       "      <td>50150.0</td>\n",
       "      <td>1460</td>\n",
       "      <td>106.0</td>\n",
       "      <td>7.1</td>\n",
       "    </tr>\n",
       "    <tr>\n",
       "      <th>14</th>\n",
       "      <td>opel astra</td>\n",
       "      <td>opel</td>\n",
       "      <td>0.085288</td>\n",
       "      <td>230224</td>\n",
       "      <td>25585.0</td>\n",
       "      <td>1035</td>\n",
       "      <td>48.0</td>\n",
       "      <td>5.0</td>\n",
       "    </tr>\n",
       "    <tr>\n",
       "      <th>20</th>\n",
       "      <td>volkswagen polo</td>\n",
       "      <td>VW</td>\n",
       "      <td>0.034536</td>\n",
       "      <td>93226</td>\n",
       "      <td>20800.0</td>\n",
       "      <td>880</td>\n",
       "      <td>37.0</td>\n",
       "      <td>4.9</td>\n",
       "    </tr>\n",
       "    <tr>\n",
       "      <th>21</th>\n",
       "      <td>volkswagen golf</td>\n",
       "      <td>VW</td>\n",
       "      <td>0.116060</td>\n",
       "      <td>313289</td>\n",
       "      <td>26900.0</td>\n",
       "      <td>1090</td>\n",
       "      <td>55.0</td>\n",
       "      <td>5.3</td>\n",
       "    </tr>\n",
       "    <tr>\n",
       "      <th>22</th>\n",
       "      <td>volkswagen passat</td>\n",
       "      <td>VW</td>\n",
       "      <td>0.050595</td>\n",
       "      <td>136575</td>\n",
       "      <td>37800.0</td>\n",
       "      <td>1230</td>\n",
       "      <td>74.0</td>\n",
       "      <td>6.1</td>\n",
       "    </tr>\n",
       "    <tr>\n",
       "      <th>38</th>\n",
       "      <td>volkswagen lupo</td>\n",
       "      <td>VW</td>\n",
       "      <td>0.022608</td>\n",
       "      <td>61026</td>\n",
       "      <td>18450.0</td>\n",
       "      <td>895</td>\n",
       "      <td>37.0</td>\n",
       "      <td>4.8</td>\n",
       "    </tr>\n",
       "    <tr>\n",
       "      <th>39</th>\n",
       "      <td>volkswagen bora</td>\n",
       "      <td>VW</td>\n",
       "      <td>0.015699</td>\n",
       "      <td>42378</td>\n",
       "      <td>33100.0</td>\n",
       "      <td>1185</td>\n",
       "      <td>74.0</td>\n",
       "      <td>6.0</td>\n",
       "    </tr>\n",
       "  </tbody>\n",
       "</table>\n",
       "</div>"
      ],
      "text/plain": [
       "                 type brand         s      qu       pr    we     hp  li1\n",
       "11         opel corsa  opel  0.041575  112226  17990.0   865   40.0  4.6\n",
       "12        opel vectra  opel  0.034859   94096  35270.0  1215   74.0  5.8\n",
       "13         opel omega  opel  0.010491   28318  50150.0  1460  106.0  7.1\n",
       "14         opel astra  opel  0.085288  230224  25585.0  1035   48.0  5.0\n",
       "20    volkswagen polo    VW  0.034536   93226  20800.0   880   37.0  4.9\n",
       "21    volkswagen golf    VW  0.116060  313289  26900.0  1090   55.0  5.3\n",
       "22  volkswagen passat    VW  0.050595  136575  37800.0  1230   74.0  6.1\n",
       "38    volkswagen lupo    VW  0.022608   61026  18450.0   895   37.0  4.8\n",
       "39    volkswagen bora    VW  0.015699   42378  33100.0  1185   74.0  6.0"
      ]
     },
     "execution_count": 82,
     "metadata": {},
     "output_type": "execute_result"
    }
   ],
   "source": [
    "# Choosing the two brands\n",
    "brand1 = 'VW'\n",
    "brand2 = 'opel'\n",
    "I1 = market_data.brand == brand1\n",
    "I2 = market_data.brand == brand2\n",
    "\n",
    "# printing some data \n",
    "market_data.loc[I1 | I2, cols]"
   ]
  },
  {
   "cell_type": "code",
   "execution_count": 83,
   "id": "21e80364",
   "metadata": {},
   "outputs": [
    {
     "data": {
      "text/html": [
       "<div>\n",
       "<style scoped>\n",
       "    .dataframe tbody tr th:only-of-type {\n",
       "        vertical-align: middle;\n",
       "    }\n",
       "\n",
       "    .dataframe tbody tr th {\n",
       "        vertical-align: top;\n",
       "    }\n",
       "\n",
       "    .dataframe thead th {\n",
       "        text-align: right;\n",
       "    }\n",
       "</style>\n",
       "<table border=\"1\" class=\"dataframe\">\n",
       "  <thead>\n",
       "    <tr style=\"text-align: right;\">\n",
       "      <th></th>\n",
       "      <th>Market share, data</th>\n",
       "      <th>Market share, pred</th>\n",
       "    </tr>\n",
       "  </thead>\n",
       "  <tbody>\n",
       "    <tr>\n",
       "      <th>VW</th>\n",
       "      <td>0.239499</td>\n",
       "      <td>0.250645</td>\n",
       "    </tr>\n",
       "    <tr>\n",
       "      <th>opel</th>\n",
       "      <td>0.172212</td>\n",
       "      <td>0.142644</td>\n",
       "    </tr>\n",
       "  </tbody>\n",
       "</table>\n",
       "</div>"
      ],
      "text/plain": [
       "      Market share, data  Market share, pred\n",
       "VW              0.239499            0.250645\n",
       "opel            0.172212            0.142644"
      ]
     },
     "execution_count": 83,
     "metadata": {},
     "output_type": "execute_result"
    }
   ],
   "source": [
    "s = logit.choice_prob(thetahat, x) # predicted market shares, (1, J)-array\n",
    "pd.DataFrame({'Market share, data': [market_data.loc[I1].s.sum(), market_data.loc[I2].s.sum()],\n",
    "              'Market share, pred': [s[0,I1].sum(), s[0,I2].sum()]\n",
    "              }, index=[brand1,brand2])"
   ]
  },
  {
   "cell_type": "markdown",
   "id": "988dde75",
   "metadata": {},
   "source": [
    "## Payoff functions"
   ]
  },
  {
   "cell_type": "code",
   "execution_count": 84,
   "id": "7ae6caa3",
   "metadata": {},
   "outputs": [],
   "source": [
    "p_data = market_data['pr'].values.copy() # prices of all cars \n",
    "\n",
    "# assumes that mc is half of the price \n",
    "c = 0.5 * p_data # J-vector\n",
    "\n",
    "def market_shares(p): \n",
    "    x2 = x.copy() # copy to avoid writing to the original data\n",
    "    for j in range(J): \n",
    "        set_car_price(x2, p[j], j)\n",
    "    s = logit.choice_prob(thetahat, x2)\n",
    "    return s[0,:] # since x2.shape[0]==1, we can just take the first row\n",
    "\n",
    "def price_vec(p1, p2) -> np.ndarray: \n",
    "    p = p_data.copy() # important to copy, otherwise we modify the original array\n",
    "    p[I1] *= p1*1.1 # scales p1 price\n",
    "    p[I2] *= p2 # ... for brand2 \n",
    "    return p \n",
    "\n",
    "def profit(p1, p2) -> np.ndarray: \n",
    "    '''returns a J-dimensional array of profits'''\n",
    "    p = price_vec(p1, p2)\n",
    "    s = market_shares(p)\n",
    "    pi = population * s * (p - c) / 1_000_000_000 # in million\n",
    "    return pi\n",
    "\n",
    "def profit1(p1, p2) -> float: \n",
    "    '''\n",
    "    Inputs: \n",
    "        p1,p2 are relative, so p1=1.0 sets all brand1 prices = baseline value,\n",
    "        while p1=1.1 increases all brand1 prices by 10%\n",
    "    '''\n",
    "    pi = profit(p1, p2)\n",
    "    pi1 = pi[I1].sum()\n",
    "    return pi1\n",
    "\n",
    "def profit2(p1, p2) -> float: \n",
    "    pi = profit(p1, p2)\n",
    "    pi2 = pi[I2].sum()\n",
    "    return pi2\n"
   ]
  },
  {
   "cell_type": "code",
   "execution_count": 85,
   "id": "5400be90",
   "metadata": {},
   "outputs": [
    {
     "name": "stdout",
     "output_type": "stream",
     "text": [
      "Baseline profit to VW: 61.58 million EUR\n",
      "Baseline profit to opel: 50.66 million EUR\n"
     ]
    }
   ],
   "source": [
    "print(f'Baseline profit to {brand1}: {profit(1.0, 1.0)[j1]:5.2f} million EUR')\n",
    "print(f'Baseline profit to {brand2}: {profit(1.0, 1.0)[j2]:5.2f} million EUR')"
   ]
  },
  {
   "cell_type": "code",
   "execution_count": 86,
   "id": "68bef93f",
   "metadata": {},
   "outputs": [
    {
     "data": {
      "image/png": "[encoded data removed]",
      "text/plain": [
       "<Figure size 432x288 with 1 Axes>"
      ]
     },
     "metadata": {},
     "output_type": "display_data"
    }
   ],
   "source": [
    "pp1 = np.linspace(0.2,4.,20) * 1.0\n",
    "pp2 = np.linspace(0.5,5,3) * 1.0\n",
    "pi1 = np.empty((pp1.size,pp2.size))\n",
    "for i2,p2 in enumerate(pp2): \n",
    "    for i1,p1 in enumerate(pp1): \n",
    "        pi1[i1,i2] = profit1(p1, p2)\n",
    "\n",
    "    plt.plot(pp1, pi1[:,i2], label=f'p2 = {p2:.2f}')\n",
    "plt.axvline(1.0, color='gray', linestyle=':', label=f'Baseline price for {brand1}')\n",
    "plt.legend(); \n"
   ]
  },
  {
   "cell_type": "markdown",
   "id": "2b3fbb84",
   "metadata": {},
   "source": [
    "***... continue from here...***"
   ]
  },
  {
   "cell_type": "markdown",
   "id": "32d49ae6",
   "metadata": {},
   "source": [
    "# 3.2.3.1"
   ]
  },
  {
   "cell_type": "code",
   "execution_count": 40,
   "id": "de64daee",
   "metadata": {},
   "outputs": [
    {
     "name": "stdout",
     "output_type": "stream",
     "text": [
      "Nash equilibrium prices: p1=1.9445312500000023, p2=1.8535156250000018\n"
     ]
    }
   ],
   "source": [
    "from scipy.optimize import minimize\n",
    "\n",
    "# Best response function for firm 1\n",
    "def BR1(p2):\n",
    "    f = lambda p1: -profit1(p1, p2)\n",
    "    res = minimize(f, 1.0, bounds=[(0, None)], method='Nelder-Mead')\n",
    "    p1 = res.x[0]\n",
    "    return p1\n",
    "\n",
    "# Best response function for firm 2\n",
    "def BR2(p1):\n",
    "    f = lambda p2: -profit2(p1, p2)\n",
    "    res = minimize(f, 1.0, bounds=[(0, None)], method='Nelder-Mead')\n",
    "    p2 = res.x[0]\n",
    "    return p2\n",
    "\n",
    "# Solve for Nash equilibrium prices\n",
    "p1_Nash = BR1(p2_data)\n",
    "p2_Nash = BR2(p1_Nash)\n",
    "\n",
    "print(f\"Nash equilibrium prices: p1={p1_Nash}, p2={p2_Nash}\")"
   ]
  },
  {
   "cell_type": "markdown",
   "id": "65fa932a",
   "metadata": {},
   "source": [
    "# 3.2.3.2"
   ]
  },
  {
   "cell_type": "code",
   "execution_count": 43,
   "id": "31a497af",
   "metadata": {},
   "outputs": [
    {
     "name": "stdout",
     "output_type": "stream",
     "text": [
      "Nash equilibrium prices (cartel): p1=2.5719707027711918, p2=2.6769443744680923\n"
     ]
    }
   ],
   "source": [
    "from scipy.optimize import minimize\n",
    "\n",
    "# Joint profit function for the cartel\n",
    "def joint_profit(p):\n",
    "    pi = profit(p[0], p[1])\n",
    "    return -pi.sum()\n",
    "\n",
    "# Solve for Nash equilibrium prices assuming a cartel\n",
    "res = minimize(joint_profit, [1.0, 1.0], bounds=[(0, None), (0, None)], method='Nelder-Mead')\n",
    "p_Nash = res.x\n",
    "\n",
    "p1_Nash, p2_Nash = p_Nash\n",
    "print(f\"Nash equilibrium prices (cartel): p1={p1_Nash}, p2={p2_Nash}\")"
   ]
  },
  {
   "cell_type": "code",
   "execution_count": null,
   "id": "0a9f27c1",
   "metadata": {},
   "outputs": [],
   "source": []
  }
 ],
 "metadata": {
  "interpreter": {
   "hash": "7d7da66137592ac323fdae235f73f52cf7e1b708075c75a7c5667c329f8e3fd0"
  },
  "kernelspec": {
   "display_name": "Python 3 (ipykernel)",
   "language": "python",
   "name": "python3"
  },
  "language_info": {
   "codemirror_mode": {
    "name": "ipython",
    "version": 3
   },
   "file_extension": ".py",
   "mimetype": "text/x-python",
   "name": "python",
   "nbconvert_exporter": "python",
   "pygments_lexer": "ipython3",
   "version": "3.9.7"
  }
 },
 "nbformat": 4,
 "nbformat_minor": 5
}
