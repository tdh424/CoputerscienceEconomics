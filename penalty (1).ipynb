{
 "cells": [
  {
   "cell_type": "markdown",
   "metadata": {},
   "source": [
    "# Penalty kicks with types"
   ]
  },
  {
   "cell_type": "code",
   "execution_count": 24,
   "metadata": {},
   "outputs": [],
   "source": [
    "import numpy as np \n",
    "import pandas as pd \n",
    "import nashpy\n",
    "import bimatrix"
   ]
  },
  {
   "cell_type": "code",
   "execution_count": 25,
   "metadata": {},
   "outputs": [],
   "source": [
    "def print_payoffs(U1, U2, A1=None, A2=None, player1=None, player2=None): \n",
    "    na1,na2 = U1.shape\n",
    "    tab = pd.DataFrame([[(U1[r,c],U2[r,c]) for c in range(na2)] for r in range(na1)])\n",
    "\n",
    "    # nice headings \n",
    "    if A1 is not None: \n",
    "        tab.index = A1\n",
    "    if A2 is not None:\n",
    "        tab.columns = A2\n",
    "    if player1 is not None:\n",
    "        tab.index.name = player1\n",
    "    if player2 is not None:\n",
    "        tab.columns.name = player2\n",
    "    \n",
    "    return tab "
   ]
  },
  {
   "cell_type": "markdown",
   "metadata": {},
   "source": [
    "# Input data"
   ]
  },
  {
   "cell_type": "code",
   "execution_count": 26,
   "metadata": {},
   "outputs": [],
   "source": [
    "# names of the actions \n",
    "A = ['L','C','R']"
   ]
  },
  {
   "cell_type": "code",
   "execution_count": 27,
   "metadata": {},
   "outputs": [
    {
     "name": "stdout",
     "output_type": "stream",
     "text": [
      "--- Action frequencies ---\n"
     ]
    },
    {
     "data": {
      "text/html": [
       "<div>\n",
       "<style scoped>\n",
       "    .dataframe tbody tr th:only-of-type {\n",
       "        vertical-align: middle;\n",
       "    }\n",
       "\n",
       "    .dataframe tbody tr th {\n",
       "        vertical-align: top;\n",
       "    }\n",
       "\n",
       "    .dataframe thead th {\n",
       "        text-align: right;\n",
       "    }\n",
       "</style>\n",
       "<table border=\"1\" class=\"dataframe\">\n",
       "  <thead>\n",
       "    <tr style=\"text-align: right;\">\n",
       "      <th></th>\n",
       "      <th>Goalie</th>\n",
       "      <th>Kicker</th>\n",
       "    </tr>\n",
       "  </thead>\n",
       "  <tbody>\n",
       "    <tr>\n",
       "      <th>L</th>\n",
       "      <td>0.57</td>\n",
       "      <td>0.45</td>\n",
       "    </tr>\n",
       "    <tr>\n",
       "      <th>C</th>\n",
       "      <td>0.02</td>\n",
       "      <td>0.17</td>\n",
       "    </tr>\n",
       "    <tr>\n",
       "      <th>R</th>\n",
       "      <td>0.41</td>\n",
       "      <td>0.38</td>\n",
       "    </tr>\n",
       "  </tbody>\n",
       "</table>\n",
       "</div>"
      ],
      "text/plain": [
       "   Goalie  Kicker\n",
       "L    0.57    0.45\n",
       "C    0.02    0.17\n",
       "R    0.41    0.38"
      ]
     },
     "execution_count": 27,
     "metadata": {},
     "output_type": "execute_result"
    }
   ],
   "source": [
    "# frequency of kicks by (kicker, goalie) actions\n",
    "F = np.array([\n",
    "    [117, 48, 95],\n",
    "    [4, 3, 4], \n",
    "    [85, 28, 75]\n",
    "])\n",
    "tab = pd.DataFrame(F, index=A, columns=A)\n",
    "tab.index.name = 'Goalie'\n",
    "tab.columns.name = 'Kicker' \n",
    "\n",
    "# action frequencies in the data \n",
    "a_kicker = tab.sum(0) / tab.sum().sum()\n",
    "a_goalie = tab.sum(1) / tab.sum().sum()\n",
    "\n",
    "print(f'--- Action frequencies ---')\n",
    "pd.DataFrame({'Goalie': a_goalie, 'Kicker': a_kicker}, index=A).round(2)"
   ]
  },
  {
   "cell_type": "code",
   "execution_count": 28,
   "metadata": {},
   "outputs": [],
   "source": [
    "# Pr(save|kicker is left-legged)\n",
    "UL = np.array([\n",
    "    [0.418, 0.188, 0.055],\n",
    "    [0.   , 1.   , 0.   ],\n",
    "    [0.109, 0.107, 0.51 ]\n",
    "])\n",
    "# Pr(save|kicker is right-legged)\n",
    "UR = np.array([\n",
    "    [0.318, 0.188, 0.155],\n",
    "    [0.   , 1.   , 0.   ],\n",
    "    [0.009, 0.107, 0.61 ]\n",
    "])"
   ]
  },
  {
   "cell_type": "code",
   "execution_count": 29,
   "metadata": {},
   "outputs": [
    {
     "data": {
      "text/html": [
       "<div>\n",
       "<style scoped>\n",
       "    .dataframe tbody tr th:only-of-type {\n",
       "        vertical-align: middle;\n",
       "    }\n",
       "\n",
       "    .dataframe tbody tr th {\n",
       "        vertical-align: top;\n",
       "    }\n",
       "\n",
       "    .dataframe thead th {\n",
       "        text-align: right;\n",
       "    }\n",
       "</style>\n",
       "<table border=\"1\" class=\"dataframe\">\n",
       "  <thead>\n",
       "    <tr style=\"text-align: right;\">\n",
       "      <th>Kicker</th>\n",
       "      <th>L</th>\n",
       "      <th>C</th>\n",
       "      <th>R</th>\n",
       "    </tr>\n",
       "    <tr>\n",
       "      <th>Goalie</th>\n",
       "      <th></th>\n",
       "      <th></th>\n",
       "      <th></th>\n",
       "    </tr>\n",
       "  </thead>\n",
       "  <tbody>\n",
       "    <tr>\n",
       "      <th>L</th>\n",
       "      <td>0.418</td>\n",
       "      <td>0.188</td>\n",
       "      <td>0.055</td>\n",
       "    </tr>\n",
       "    <tr>\n",
       "      <th>C</th>\n",
       "      <td>0.000</td>\n",
       "      <td>1.000</td>\n",
       "      <td>0.000</td>\n",
       "    </tr>\n",
       "    <tr>\n",
       "      <th>R</th>\n",
       "      <td>0.109</td>\n",
       "      <td>0.107</td>\n",
       "      <td>0.510</td>\n",
       "    </tr>\n",
       "  </tbody>\n",
       "</table>\n",
       "</div>"
      ],
      "text/plain": [
       "Kicker      L      C      R\n",
       "Goalie                     \n",
       "L       0.418  0.188  0.055\n",
       "C       0.000  1.000  0.000\n",
       "R       0.109  0.107  0.510"
      ]
     },
     "execution_count": 29,
     "metadata": {},
     "output_type": "execute_result"
    }
   ],
   "source": [
    "saves_leftie = pd.DataFrame(UL, index=A, columns=A)\n",
    "saves_leftie.index.name = 'Goalie'\n",
    "saves_leftie.columns.name = 'Kicker'\n",
    "saves_leftie"
   ]
  },
  {
   "cell_type": "code",
   "execution_count": 30,
   "metadata": {},
   "outputs": [
    {
     "data": {
      "text/html": [
       "<div>\n",
       "<style scoped>\n",
       "    .dataframe tbody tr th:only-of-type {\n",
       "        vertical-align: middle;\n",
       "    }\n",
       "\n",
       "    .dataframe tbody tr th {\n",
       "        vertical-align: top;\n",
       "    }\n",
       "\n",
       "    .dataframe thead th {\n",
       "        text-align: right;\n",
       "    }\n",
       "</style>\n",
       "<table border=\"1\" class=\"dataframe\">\n",
       "  <thead>\n",
       "    <tr style=\"text-align: right;\">\n",
       "      <th>Kicker</th>\n",
       "      <th>L</th>\n",
       "      <th>C</th>\n",
       "      <th>R</th>\n",
       "    </tr>\n",
       "    <tr>\n",
       "      <th>Goalie</th>\n",
       "      <th></th>\n",
       "      <th></th>\n",
       "      <th></th>\n",
       "    </tr>\n",
       "  </thead>\n",
       "  <tbody>\n",
       "    <tr>\n",
       "      <th>L</th>\n",
       "      <td>0.318</td>\n",
       "      <td>0.188</td>\n",
       "      <td>0.155</td>\n",
       "    </tr>\n",
       "    <tr>\n",
       "      <th>C</th>\n",
       "      <td>0.000</td>\n",
       "      <td>1.000</td>\n",
       "      <td>0.000</td>\n",
       "    </tr>\n",
       "    <tr>\n",
       "      <th>R</th>\n",
       "      <td>0.009</td>\n",
       "      <td>0.107</td>\n",
       "      <td>0.610</td>\n",
       "    </tr>\n",
       "  </tbody>\n",
       "</table>\n",
       "</div>"
      ],
      "text/plain": [
       "Kicker      L      C      R\n",
       "Goalie                     \n",
       "L       0.318  0.188  0.155\n",
       "C       0.000  1.000  0.000\n",
       "R       0.009  0.107  0.610"
      ]
     },
     "execution_count": 30,
     "metadata": {},
     "output_type": "execute_result"
    }
   ],
   "source": [
    "saves_rightie = pd.DataFrame(UR, index=A, columns=A)\n",
    "saves_rightie.index.name = 'Goalie'\n",
    "saves_rightie.columns.name = 'Kicker'\n",
    "saves_rightie"
   ]
  },
  {
   "cell_type": "markdown",
   "metadata": {},
   "source": [
    "Set up the sub-game where the kicker is left-legged and this is known by both players as a normal form game. "
   ]
  },
  {
   "cell_type": "code",
   "execution_count": 31,
   "metadata": {},
   "outputs": [
    {
     "data": {
      "text/html": [
       "<div>\n",
       "<style scoped>\n",
       "    .dataframe tbody tr th:only-of-type {\n",
       "        vertical-align: middle;\n",
       "    }\n",
       "\n",
       "    .dataframe tbody tr th {\n",
       "        vertical-align: top;\n",
       "    }\n",
       "\n",
       "    .dataframe thead th {\n",
       "        text-align: right;\n",
       "    }\n",
       "</style>\n",
       "<table border=\"1\" class=\"dataframe\">\n",
       "  <thead>\n",
       "    <tr style=\"text-align: right;\">\n",
       "      <th>Kicker</th>\n",
       "      <th>L</th>\n",
       "      <th>C</th>\n",
       "      <th>R</th>\n",
       "    </tr>\n",
       "    <tr>\n",
       "      <th>Goalie</th>\n",
       "      <th></th>\n",
       "      <th></th>\n",
       "      <th></th>\n",
       "    </tr>\n",
       "  </thead>\n",
       "  <tbody>\n",
       "    <tr>\n",
       "      <th>L</th>\n",
       "      <td>(0.418, -0.418)</td>\n",
       "      <td>(0.188, -0.188)</td>\n",
       "      <td>(0.055, -0.055)</td>\n",
       "    </tr>\n",
       "    <tr>\n",
       "      <th>C</th>\n",
       "      <td>(0.0, -0.0)</td>\n",
       "      <td>(1.0, -1.0)</td>\n",
       "      <td>(0.0, -0.0)</td>\n",
       "    </tr>\n",
       "    <tr>\n",
       "      <th>R</th>\n",
       "      <td>(0.109, -0.109)</td>\n",
       "      <td>(0.107, -0.107)</td>\n",
       "      <td>(0.51, -0.51)</td>\n",
       "    </tr>\n",
       "  </tbody>\n",
       "</table>\n",
       "</div>"
      ],
      "text/plain": [
       "Kicker                L                C                R\n",
       "Goalie                                                   \n",
       "L       (0.418, -0.418)  (0.188, -0.188)  (0.055, -0.055)\n",
       "C           (0.0, -0.0)      (1.0, -1.0)      (0.0, -0.0)\n",
       "R       (0.109, -0.109)  (0.107, -0.107)    (0.51, -0.51)"
      ]
     },
     "execution_count": 31,
     "metadata": {},
     "output_type": "execute_result"
    }
   ],
   "source": [
    "t = print_payoffs(UL, -UL, A, A, 'Goalie', 'Kicker')\n",
    "t"
   ]
  },
  {
   "cell_type": "markdown",
   "metadata": {},
   "source": [
    "***...continue from here...***"
   ]
  },
  {
   "cell_type": "markdown",
   "metadata": {},
   "source": [
    "# 1.1 Nash-ligevægten i de to spil "
   ]
  },
  {
   "cell_type": "code",
   "execution_count": 32,
   "metadata": {},
   "outputs": [
    {
     "data": {
      "text/plain": [
       "[(array([0.46793534, 0.10847231, 0.42359234]),\n",
       "  array([0.42593202, 0.24176854, 0.33229944]))]"
      ]
     },
     "execution_count": 32,
     "metadata": {},
     "output_type": "execute_result"
    }
   ],
   "source": [
    "# Venstrebenet angriber\n",
    "G = nashpy.Game(UL, -UL)\n",
    "sol = G.support_enumeration()\n",
    "sol=list(sol)\n",
    "sol"
   ]
  },
  {
   "cell_type": "code",
   "execution_count": 33,
   "metadata": {},
   "outputs": [
    {
     "data": {
      "text/plain": [
       "[(array([0.72746551, 0.07523519, 0.1972993 ]),\n",
       "  array([0.43200679, 0.23310973, 0.33488348]))]"
      ]
     },
     "execution_count": 33,
     "metadata": {},
     "output_type": "execute_result"
    }
   ],
   "source": [
    "# Højrebenet angriber\n",
    "G = nashpy.Game(UR, -UR)\n",
    "sol = G.support_enumeration()\n",
    "sol=list(sol)\n",
    "sol"
   ]
  },
  {
   "cell_type": "markdown",
   "metadata": {},
   "source": [
    "# 1.2 Bayesiansk Nash-ligevægt"
   ]
  },
  {
   "cell_type": "code",
   "execution_count": 34,
   "metadata": {},
   "outputs": [],
   "source": [
    "def compute_full_matrix(U1, U2, p, action_names=None): \n",
    "    '''\n",
    "        Assumes that only player 2's type varies \n",
    "        (this means that player 1 has one action per row in U1, \n",
    "         while 2 has nA2**2 (one choice per type))\n",
    "        Both players have one utility matrix for each realization \n",
    "        of player 2's type. \n",
    "         \n",
    "        INPUTS: \n",
    "            U1: list of 2 payoff matrices for player 1 (row player)\n",
    "            U2: list of 2 payoff matrices for player 2 (column player)\n",
    "            p: (scalar) Probability that player 2 is the first type \n",
    "            action_names: [optional] 2-list of names of actions (nA1 and nA2 long)\n",
    "        OUTPUTS: \n",
    "            t1, t2: wide-form payoff matrices suitable for finding the NE \n",
    "            A1, A2: names of actions \n",
    "    '''\n",
    "    assert len(U1) == 2\n",
    "    assert len(U2) == 2 \n",
    "    assert np.isscalar(p)\n",
    "    nA1, nA2 = U1[0].shape\n",
    "    \n",
    "    t1 = np.empty((nA1, nA2*nA2))\n",
    "    t2 = np.empty((nA1, nA2*nA2))\n",
    "    \n",
    "    # player 1 chooses an action without knowing what type 2 is \n",
    "    for ia1 in range(nA1): \n",
    "        i_col = 0 \n",
    "        \n",
    "        # player 2 chooses an action conditional on observing her type \n",
    "        for a2_1 in range(nA2): \n",
    "            for a2_2 in range(nA2): \n",
    "                t1[ia1,i_col] = p * U1[0][ia1,a2_1] + (1.-p) * U1[1][ia1,a2_2]\n",
    "                t2[ia1,i_col] = p * U2[0][ia1,a2_1] + (1.-p) * U2[1][ia1,a2_2]\n",
    "                \n",
    "                i_col += 1\n",
    "                \n",
    "    if action_names is None: \n",
    "        A1 = [f'{i}' for i in range(nA1)]\n",
    "        A2 = [f'{a}{b}' for a in range(nA2) for b in range(nA2)]\n",
    "    else: \n",
    "        assert len(action_names) == 2 \n",
    "        A1 = action_names[0]\n",
    "        assert len(A1) == nA1, f'Incorrect # of action names'\n",
    "        a2 = action_names[1]\n",
    "        assert len(a2) == nA2, f'Incorrect # of action names'\n",
    "        \n",
    "        A2 = [f'{a}{b}' for a in a2 for b in a2]\n",
    "        \n",
    "    return t1, t2, A1, A2"
   ]
  },
  {
   "cell_type": "code",
   "execution_count": 45,
   "metadata": {},
   "outputs": [],
   "source": [
    "# Pr(theta_2=theta_V)\n",
    "p = 0.11\n",
    "\n",
    "# player 1\n",
    "u1 = p*UL+(1-p)*UR\n",
    "U1 = [u1, u1]\n",
    "A1 = ['L','C', 'R']\n",
    "\n",
    "# player 2\n",
    "u21 = -UL\n",
    "u22 = -UR\n",
    "U2 = [u21,u22]\n",
    "a2 = ['L','C','R']\n",
    "A2 = [f'{a}{b}' for a in a2 for b in a2]"
   ]
  },
  {
   "cell_type": "code",
   "execution_count": 46,
   "metadata": {},
   "outputs": [],
   "source": [
    "# wide form\n",
    "t1, t2, A1, A2 = compute_full_matrix(U1, U2, p,[A1, a2])"
   ]
  },
  {
   "cell_type": "code",
   "execution_count": 47,
   "metadata": {},
   "outputs": [],
   "source": [
    "# removes strictly dominated strategies\n",
    "A_, T_ = bimatrix.IESDS([A1, A2], [t1, t2], DOPRINT=True)"
   ]
  },
  {
   "cell_type": "code",
   "execution_count": 48,
   "metadata": {},
   "outputs": [
    {
     "name": "stdout",
     "output_type": "stream",
     "text": [
      "Found 1 equilibria\n",
      "1: s1 = [0.72746551 0.07523519 0.1972993 ], s2 = [0.         0.         0.         0.         0.         0.\n",
      " 0.48462526 0.2630266  0.25234814]\n"
     ]
    }
   ],
   "source": [
    "# solves game theory to find all equilibria in the game\n",
    "eqs = list(nashpy.Game(T_[0], T_[1]).support_enumeration())\n",
    "print(f'Found {len(eqs)} equilibria')\n",
    "for i,eq in enumerate(eqs): \n",
    "    print(f'{i+1}: s1 = {eq[0]}, s2 = {eq[1]}')"
   ]
  },
  {
   "cell_type": "markdown",
   "metadata": {},
   "source": [
    "# 1.3 Omvendt: Bayesiansk Nash-ligevægt"
   ]
  },
  {
   "cell_type": "code",
   "execution_count": 59,
   "metadata": {},
   "outputs": [],
   "source": [
    "# Pr(theta_2=theta_V)\n",
    "p = 0.89\n",
    "\n",
    "# player 1\n",
    "u1 = p*UL+(1-p)*UR\n",
    "U1 = [u1,u1]\n",
    "A1 = ['L','C', 'R']\n",
    "\n",
    "# player 2\n",
    "u21 = 1-UL\n",
    "u22 = 1-UR\n",
    "U2 = [u21,u22]\n",
    "a2 = ['L','C','R']\n",
    "A2 = [f'{a}{b}' for a in a2 for b in a2]"
   ]
  },
  {
   "cell_type": "code",
   "execution_count": 56,
   "metadata": {},
   "outputs": [],
   "source": [
    "# wide form\n",
    "t1, t2, A1, A2 = compute_full_matrix(U1, U2, p,[A1, a2])"
   ]
  },
  {
   "cell_type": "code",
   "execution_count": 57,
   "metadata": {},
   "outputs": [],
   "source": [
    "# removes strictly dominated strategies\n",
    "A_, T_ = bimatrix.IESDS([A1, A2], [t1, t2], DOPRINT=True)"
   ]
  },
  {
   "cell_type": "code",
   "execution_count": 58,
   "metadata": {},
   "outputs": [
    {
     "name": "stdout",
     "output_type": "stream",
     "text": [
      "Found 1 equilibria\n",
      "1: s1 = [0.46793534 0.10847231 0.42359234], s2 = [0.3557065  0.         0.         0.27061422 0.         0.\n",
      " 0.37367928 0.         0.        ]\n"
     ]
    }
   ],
   "source": [
    "eqs = list(nashpy.Game(T_[0], T_[1]).support_enumeration())\n",
    "print(f'Found {len(eqs)} equilibria')\n",
    "for i,eq in enumerate(eqs): \n",
    "    print(f'{i+1}: s1 = {eq[0]}, s2 = {eq[1]}')"
   ]
  },
  {
   "cell_type": "code",
   "execution_count": null,
   "metadata": {},
   "outputs": [],
   "source": []
  }
 ],
 "metadata": {
  "interpreter": {
   "hash": "2f28796849cc7d0dfb7168fb91405d73a8cccecd280e63fee6edce8a728c9dcc"
  },
  "kernelspec": {
   "display_name": "Python 3 (ipykernel)",
   "language": "python",
   "name": "python3"
  },
  "language_info": {
   "codemirror_mode": {
    "name": "ipython",
    "version": 3
   },
   "file_extension": ".py",
   "mimetype": "text/x-python",
   "name": "python",
   "nbconvert_exporter": "python",
   "pygments_lexer": "ipython3",
   "version": "3.9.7"
  }
 },
 "nbformat": 4,
 "nbformat_minor": 4
}
